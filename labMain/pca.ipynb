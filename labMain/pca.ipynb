{
 "cells": [
  {
   "cell_type": "markdown",
   "metadata": {},
   "source": [
    "## Use Iris dataset and perform PCA on the dataset. Examine the first two principal components of X. \n"
   ]
  },
  {
   "cell_type": "markdown",
   "metadata": {},
   "source": [
    "## Create a scatter plot  with each of the 150 rows of X projected onto the first two principal components. Horizontal axis should be first principal component and vertical axis should be second principal component. "
   ]
  },
  {
   "cell_type": "code",
   "execution_count": 160,
   "metadata": {},
   "outputs": [
    {
     "data": {
      "text/html": [
       "<div>\n",
       "<style scoped>\n",
       "    .dataframe tbody tr th:only-of-type {\n",
       "        vertical-align: middle;\n",
       "    }\n",
       "\n",
       "    .dataframe tbody tr th {\n",
       "        vertical-align: top;\n",
       "    }\n",
       "\n",
       "    .dataframe thead th {\n",
       "        text-align: right;\n",
       "    }\n",
       "</style>\n",
       "<table border=\"1\" class=\"dataframe\">\n",
       "  <thead>\n",
       "    <tr style=\"text-align: right;\">\n",
       "      <th></th>\n",
       "      <th>sepal length</th>\n",
       "      <th>sepal width</th>\n",
       "      <th>petal length</th>\n",
       "      <th>petal width</th>\n",
       "      <th>species</th>\n",
       "    </tr>\n",
       "  </thead>\n",
       "  <tbody>\n",
       "    <tr>\n",
       "      <th>0</th>\n",
       "      <td>5.1</td>\n",
       "      <td>3.5</td>\n",
       "      <td>1.4</td>\n",
       "      <td>0.2</td>\n",
       "      <td>1</td>\n",
       "    </tr>\n",
       "    <tr>\n",
       "      <th>1</th>\n",
       "      <td>4.9</td>\n",
       "      <td>3.0</td>\n",
       "      <td>1.4</td>\n",
       "      <td>0.2</td>\n",
       "      <td>1</td>\n",
       "    </tr>\n",
       "    <tr>\n",
       "      <th>2</th>\n",
       "      <td>4.7</td>\n",
       "      <td>3.2</td>\n",
       "      <td>1.3</td>\n",
       "      <td>0.2</td>\n",
       "      <td>1</td>\n",
       "    </tr>\n",
       "    <tr>\n",
       "      <th>3</th>\n",
       "      <td>4.6</td>\n",
       "      <td>3.1</td>\n",
       "      <td>1.5</td>\n",
       "      <td>0.2</td>\n",
       "      <td>1</td>\n",
       "    </tr>\n",
       "    <tr>\n",
       "      <th>4</th>\n",
       "      <td>5.0</td>\n",
       "      <td>3.6</td>\n",
       "      <td>1.4</td>\n",
       "      <td>0.2</td>\n",
       "      <td>1</td>\n",
       "    </tr>\n",
       "  </tbody>\n",
       "</table>\n",
       "</div>"
      ],
      "text/plain": [
       "   sepal length  sepal width  petal length  petal width  species\n",
       "0           5.1          3.5           1.4          0.2        1\n",
       "1           4.9          3.0           1.4          0.2        1\n",
       "2           4.7          3.2           1.3          0.2        1\n",
       "3           4.6          3.1           1.5          0.2        1\n",
       "4           5.0          3.6           1.4          0.2        1"
      ]
     },
     "execution_count": 160,
     "metadata": {},
     "output_type": "execute_result"
    }
   ],
   "source": [
    "import pandas as pd\n",
    "df = pd.read_csv(\"iris.csv\")\n",
    "\n",
    "# Prepare X and Y\n",
    "X = df.values[:,:-1]\n",
    "Y = df.values[:,-1]\n",
    "\n",
    "df.head()"
   ]
  },
  {
   "cell_type": "code",
   "execution_count": 162,
   "metadata": {},
   "outputs": [
    {
     "data": {
      "text/html": [
       "<div>\n",
       "<style scoped>\n",
       "    .dataframe tbody tr th:only-of-type {\n",
       "        vertical-align: middle;\n",
       "    }\n",
       "\n",
       "    .dataframe tbody tr th {\n",
       "        vertical-align: top;\n",
       "    }\n",
       "\n",
       "    .dataframe thead th {\n",
       "        text-align: right;\n",
       "    }\n",
       "</style>\n",
       "<table border=\"1\" class=\"dataframe\">\n",
       "  <thead>\n",
       "    <tr style=\"text-align: right;\">\n",
       "      <th></th>\n",
       "      <th>sepal length</th>\n",
       "      <th>sepal width</th>\n",
       "      <th>petal length</th>\n",
       "      <th>petal width</th>\n",
       "      <th>species</th>\n",
       "    </tr>\n",
       "  </thead>\n",
       "  <tbody>\n",
       "    <tr>\n",
       "      <th>0</th>\n",
       "      <td>5.1</td>\n",
       "      <td>3.5</td>\n",
       "      <td>1.4</td>\n",
       "      <td>0.2</td>\n",
       "      <td>1</td>\n",
       "    </tr>\n",
       "    <tr>\n",
       "      <th>1</th>\n",
       "      <td>4.9</td>\n",
       "      <td>3.0</td>\n",
       "      <td>1.4</td>\n",
       "      <td>0.2</td>\n",
       "      <td>1</td>\n",
       "    </tr>\n",
       "    <tr>\n",
       "      <th>2</th>\n",
       "      <td>4.7</td>\n",
       "      <td>3.2</td>\n",
       "      <td>1.3</td>\n",
       "      <td>0.2</td>\n",
       "      <td>1</td>\n",
       "    </tr>\n",
       "    <tr>\n",
       "      <th>3</th>\n",
       "      <td>4.6</td>\n",
       "      <td>3.1</td>\n",
       "      <td>1.5</td>\n",
       "      <td>0.2</td>\n",
       "      <td>1</td>\n",
       "    </tr>\n",
       "    <tr>\n",
       "      <th>4</th>\n",
       "      <td>5.0</td>\n",
       "      <td>3.6</td>\n",
       "      <td>1.4</td>\n",
       "      <td>0.2</td>\n",
       "      <td>1</td>\n",
       "    </tr>\n",
       "    <tr>\n",
       "      <th>...</th>\n",
       "      <td>...</td>\n",
       "      <td>...</td>\n",
       "      <td>...</td>\n",
       "      <td>...</td>\n",
       "      <td>...</td>\n",
       "    </tr>\n",
       "    <tr>\n",
       "      <th>145</th>\n",
       "      <td>6.7</td>\n",
       "      <td>3.0</td>\n",
       "      <td>5.2</td>\n",
       "      <td>2.3</td>\n",
       "      <td>3</td>\n",
       "    </tr>\n",
       "    <tr>\n",
       "      <th>146</th>\n",
       "      <td>6.3</td>\n",
       "      <td>2.5</td>\n",
       "      <td>5.0</td>\n",
       "      <td>1.9</td>\n",
       "      <td>3</td>\n",
       "    </tr>\n",
       "    <tr>\n",
       "      <th>147</th>\n",
       "      <td>6.5</td>\n",
       "      <td>3.0</td>\n",
       "      <td>5.2</td>\n",
       "      <td>2.0</td>\n",
       "      <td>3</td>\n",
       "    </tr>\n",
       "    <tr>\n",
       "      <th>148</th>\n",
       "      <td>6.2</td>\n",
       "      <td>3.4</td>\n",
       "      <td>5.4</td>\n",
       "      <td>2.3</td>\n",
       "      <td>3</td>\n",
       "    </tr>\n",
       "    <tr>\n",
       "      <th>149</th>\n",
       "      <td>5.9</td>\n",
       "      <td>3.0</td>\n",
       "      <td>5.1</td>\n",
       "      <td>1.8</td>\n",
       "      <td>3</td>\n",
       "    </tr>\n",
       "  </tbody>\n",
       "</table>\n",
       "<p>150 rows × 5 columns</p>\n",
       "</div>"
      ],
      "text/plain": [
       "     sepal length  sepal width  petal length  petal width  species\n",
       "0             5.1          3.5           1.4          0.2        1\n",
       "1             4.9          3.0           1.4          0.2        1\n",
       "2             4.7          3.2           1.3          0.2        1\n",
       "3             4.6          3.1           1.5          0.2        1\n",
       "4             5.0          3.6           1.4          0.2        1\n",
       "..            ...          ...           ...          ...      ...\n",
       "145           6.7          3.0           5.2          2.3        3\n",
       "146           6.3          2.5           5.0          1.9        3\n",
       "147           6.5          3.0           5.2          2.0        3\n",
       "148           6.2          3.4           5.4          2.3        3\n",
       "149           5.9          3.0           5.1          1.8        3\n",
       "\n",
       "[150 rows x 5 columns]"
      ]
     },
     "execution_count": 162,
     "metadata": {},
     "output_type": "execute_result"
    }
   ],
   "source": [
    "df"
   ]
  },
  {
   "cell_type": "code",
   "execution_count": 163,
   "metadata": {},
   "outputs": [
    {
     "data": {
      "text/plain": [
       "array([[ 1.6355,  0.0355, -2.0645, -3.2645],\n",
       "       [ 1.4355, -0.4645, -2.0645, -3.2645],\n",
       "       [ 1.2355, -0.2645, -2.1645, -3.2645],\n",
       "       [ 1.1355, -0.3645, -1.9645, -3.2645],\n",
       "       [ 1.5355,  0.1355, -2.0645, -3.2645],\n",
       "       [ 1.9355,  0.4355, -1.7645, -3.0645],\n",
       "       [ 1.1355, -0.0645, -2.0645, -3.1645],\n",
       "       [ 1.5355, -0.0645, -1.9645, -3.2645],\n",
       "       [ 0.9355, -0.5645, -2.0645, -3.2645],\n",
       "       [ 1.4355, -0.3645, -1.9645, -3.3645],\n",
       "       [ 1.9355,  0.2355, -1.9645, -3.2645],\n",
       "       [ 1.3355, -0.0645, -1.8645, -3.2645],\n",
       "       [ 1.3355, -0.4645, -2.0645, -3.3645],\n",
       "       [ 0.8355, -0.4645, -2.3645, -3.3645],\n",
       "       [ 2.3355,  0.5355, -2.2645, -3.2645],\n",
       "       [ 2.2355,  0.9355, -1.9645, -3.0645],\n",
       "       [ 1.9355,  0.4355, -2.1645, -3.0645],\n",
       "       [ 1.6355,  0.0355, -2.0645, -3.1645],\n",
       "       [ 2.2355,  0.3355, -1.7645, -3.1645],\n",
       "       [ 1.6355,  0.3355, -1.9645, -3.1645],\n",
       "       [ 1.9355, -0.0645, -1.7645, -3.2645],\n",
       "       [ 1.6355,  0.2355, -1.9645, -3.0645],\n",
       "       [ 1.1355,  0.1355, -2.4645, -3.2645],\n",
       "       [ 1.6355, -0.1645, -1.7645, -2.9645],\n",
       "       [ 1.3355, -0.0645, -1.5645, -3.2645],\n",
       "       [ 1.5355, -0.4645, -1.8645, -3.2645],\n",
       "       [ 1.5355, -0.0645, -1.8645, -3.0645],\n",
       "       [ 1.7355,  0.0355, -1.9645, -3.2645],\n",
       "       [ 1.7355, -0.0645, -2.0645, -3.2645],\n",
       "       [ 1.2355, -0.2645, -1.8645, -3.2645],\n",
       "       [ 1.3355, -0.3645, -1.8645, -3.2645],\n",
       "       [ 1.9355, -0.0645, -1.9645, -3.0645],\n",
       "       [ 1.7355,  0.6355, -1.9645, -3.3645],\n",
       "       [ 2.0355,  0.7355, -2.0645, -3.2645],\n",
       "       [ 1.4355, -0.3645, -1.9645, -3.2645],\n",
       "       [ 1.5355, -0.2645, -2.2645, -3.2645],\n",
       "       [ 2.0355,  0.0355, -2.1645, -3.2645],\n",
       "       [ 1.4355,  0.1355, -2.0645, -3.3645],\n",
       "       [ 0.9355, -0.4645, -2.1645, -3.2645],\n",
       "       [ 1.6355, -0.0645, -1.9645, -3.2645],\n",
       "       [ 1.5355,  0.0355, -2.1645, -3.1645],\n",
       "       [ 1.0355, -1.1645, -2.1645, -3.1645],\n",
       "       [ 0.9355, -0.2645, -2.1645, -3.2645],\n",
       "       [ 1.5355,  0.0355, -1.8645, -2.8645],\n",
       "       [ 1.6355,  0.3355, -1.5645, -3.0645],\n",
       "       [ 1.3355, -0.4645, -2.0645, -3.1645],\n",
       "       [ 1.6355,  0.3355, -1.8645, -3.2645],\n",
       "       [ 1.1355, -0.2645, -2.0645, -3.2645],\n",
       "       [ 1.8355,  0.2355, -1.9645, -3.2645],\n",
       "       [ 1.5355, -0.1645, -2.0645, -3.2645],\n",
       "       [ 3.5355, -0.2645,  1.2355, -2.0645],\n",
       "       [ 2.9355, -0.2645,  1.0355, -1.9645],\n",
       "       [ 3.4355, -0.3645,  1.4355, -1.9645],\n",
       "       [ 2.0355, -1.1645,  0.5355, -2.1645],\n",
       "       [ 3.0355, -0.6645,  1.1355, -1.9645],\n",
       "       [ 2.2355, -0.6645,  1.0355, -2.1645],\n",
       "       [ 2.8355, -0.1645,  1.2355, -1.8645],\n",
       "       [ 1.4355, -1.0645, -0.1645, -2.4645],\n",
       "       [ 3.1355, -0.5645,  1.1355, -2.1645],\n",
       "       [ 1.7355, -0.7645,  0.4355, -2.0645],\n",
       "       [ 1.5355, -1.4645,  0.0355, -2.4645],\n",
       "       [ 2.4355, -0.4645,  0.7355, -1.9645],\n",
       "       [ 2.5355, -1.2645,  0.5355, -2.4645],\n",
       "       [ 2.6355, -0.5645,  1.2355, -2.0645],\n",
       "       [ 2.1355, -0.5645,  0.1355, -2.1645],\n",
       "       [ 3.2355, -0.3645,  0.9355, -2.0645],\n",
       "       [ 2.1355, -0.4645,  1.0355, -1.9645],\n",
       "       [ 2.3355, -0.7645,  0.6355, -2.4645],\n",
       "       [ 2.7355, -1.2645,  1.0355, -1.9645],\n",
       "       [ 2.1355, -0.9645,  0.4355, -2.3645],\n",
       "       [ 2.4355, -0.2645,  1.3355, -1.6645],\n",
       "       [ 2.6355, -0.6645,  0.5355, -2.1645],\n",
       "       [ 2.8355, -0.9645,  1.4355, -1.9645],\n",
       "       [ 2.6355, -0.6645,  1.2355, -2.2645],\n",
       "       [ 2.9355, -0.5645,  0.8355, -2.1645],\n",
       "       [ 3.1355, -0.4645,  0.9355, -2.0645],\n",
       "       [ 3.3355, -0.6645,  1.3355, -2.0645],\n",
       "       [ 3.2355, -0.4645,  1.5355, -1.7645],\n",
       "       [ 2.5355, -0.5645,  1.0355, -1.9645],\n",
       "       [ 2.2355, -0.8645,  0.0355, -2.4645],\n",
       "       [ 2.0355, -1.0645,  0.3355, -2.3645],\n",
       "       [ 2.0355, -1.0645,  0.2355, -2.4645],\n",
       "       [ 2.3355, -0.7645,  0.4355, -2.2645],\n",
       "       [ 2.5355, -0.7645,  1.6355, -1.8645],\n",
       "       [ 1.9355, -0.4645,  1.0355, -1.9645],\n",
       "       [ 2.5355, -0.0645,  1.0355, -1.8645],\n",
       "       [ 3.2355, -0.3645,  1.2355, -1.9645],\n",
       "       [ 2.8355, -1.1645,  0.9355, -2.1645],\n",
       "       [ 2.1355, -0.4645,  0.6355, -2.1645],\n",
       "       [ 2.0355, -0.9645,  0.5355, -2.1645],\n",
       "       [ 2.0355, -0.8645,  0.9355, -2.2645],\n",
       "       [ 2.6355, -0.4645,  1.1355, -2.0645],\n",
       "       [ 2.3355, -0.8645,  0.5355, -2.2645],\n",
       "       [ 1.5355, -1.1645, -0.1645, -2.4645],\n",
       "       [ 2.1355, -0.7645,  0.7355, -2.1645],\n",
       "       [ 2.2355, -0.4645,  0.7355, -2.2645],\n",
       "       [ 2.2355, -0.5645,  0.7355, -2.1645],\n",
       "       [ 2.7355, -0.5645,  0.8355, -2.1645],\n",
       "       [ 1.6355, -0.9645, -0.4645, -2.3645],\n",
       "       [ 2.2355, -0.6645,  0.6355, -2.1645],\n",
       "       [ 2.8355, -0.1645,  2.5355, -0.9645],\n",
       "       [ 2.3355, -0.7645,  1.6355, -1.5645],\n",
       "       [ 3.6355, -0.4645,  2.4355, -1.3645],\n",
       "       [ 2.8355, -0.5645,  2.1355, -1.6645],\n",
       "       [ 3.0355, -0.4645,  2.3355, -1.2645],\n",
       "       [ 4.1355, -0.4645,  3.1355, -1.3645],\n",
       "       [ 1.4355, -0.9645,  1.0355, -1.7645],\n",
       "       [ 3.8355, -0.5645,  2.8355, -1.6645],\n",
       "       [ 3.2355, -0.9645,  2.3355, -1.6645],\n",
       "       [ 3.7355,  0.1355,  2.6355, -0.9645],\n",
       "       [ 3.0355, -0.2645,  1.6355, -1.4645],\n",
       "       [ 2.9355, -0.7645,  1.8355, -1.5645],\n",
       "       [ 3.3355, -0.4645,  2.0355, -1.3645],\n",
       "       [ 2.2355, -0.9645,  1.5355, -1.4645],\n",
       "       [ 2.3355, -0.6645,  1.6355, -1.0645],\n",
       "       [ 2.9355, -0.2645,  1.8355, -1.1645],\n",
       "       [ 3.0355, -0.4645,  2.0355, -1.6645],\n",
       "       [ 4.2355,  0.3355,  3.2355, -1.2645],\n",
       "       [ 4.2355, -0.8645,  3.4355, -1.1645],\n",
       "       [ 2.5355, -1.2645,  1.5355, -1.9645],\n",
       "       [ 3.4355, -0.2645,  2.2355, -1.1645],\n",
       "       [ 2.1355, -0.6645,  1.4355, -1.4645],\n",
       "       [ 4.2355, -0.6645,  3.2355, -1.4645],\n",
       "       [ 2.8355, -0.7645,  1.4355, -1.6645],\n",
       "       [ 3.2355, -0.1645,  2.2355, -1.3645],\n",
       "       [ 3.7355, -0.2645,  2.5355, -1.6645],\n",
       "       [ 2.7355, -0.6645,  1.3355, -1.6645],\n",
       "       [ 2.6355, -0.4645,  1.4355, -1.6645],\n",
       "       [ 2.9355, -0.6645,  2.1355, -1.3645],\n",
       "       [ 3.7355, -0.4645,  2.3355, -1.8645],\n",
       "       [ 3.9355, -0.6645,  2.6355, -1.5645],\n",
       "       [ 4.4355,  0.3355,  2.9355, -1.4645],\n",
       "       [ 2.9355, -0.6645,  2.1355, -1.2645],\n",
       "       [ 2.8355, -0.6645,  1.6355, -1.9645],\n",
       "       [ 2.6355, -0.8645,  2.1355, -2.0645],\n",
       "       [ 4.2355, -0.4645,  2.6355, -1.1645],\n",
       "       [ 2.8355, -0.0645,  2.1355, -1.0645],\n",
       "       [ 2.9355, -0.3645,  2.0355, -1.6645],\n",
       "       [ 2.5355, -0.4645,  1.3355, -1.6645],\n",
       "       [ 3.4355, -0.3645,  1.9355, -1.3645],\n",
       "       [ 3.2355, -0.3645,  2.1355, -1.0645],\n",
       "       [ 3.4355, -0.3645,  1.6355, -1.1645],\n",
       "       [ 2.3355, -0.7645,  1.6355, -1.5645],\n",
       "       [ 3.3355, -0.2645,  2.4355, -1.1645],\n",
       "       [ 3.2355, -0.1645,  2.2355, -0.9645],\n",
       "       [ 3.2355, -0.4645,  1.7355, -1.1645],\n",
       "       [ 2.8355, -0.9645,  1.5355, -1.5645],\n",
       "       [ 3.0355, -0.4645,  1.7355, -1.4645],\n",
       "       [ 2.7355, -0.0645,  1.9355, -1.1645],\n",
       "       [ 2.4355, -0.4645,  1.6355, -1.6645]])"
      ]
     },
     "execution_count": 163,
     "metadata": {},
     "output_type": "execute_result"
    }
   ],
   "source": [
    "X_standard = X - X.mean()\n",
    "X_standard"
   ]
  },
  {
   "cell_type": "code",
   "execution_count": 164,
   "metadata": {},
   "outputs": [
    {
     "data": {
      "text/plain": [
       "numpy.ndarray"
      ]
     },
     "execution_count": 164,
     "metadata": {},
     "output_type": "execute_result"
    }
   ],
   "source": [
    "type(X_standard)"
   ]
  },
  {
   "cell_type": "code",
   "execution_count": 165,
   "metadata": {},
   "outputs": [
    {
     "data": {
      "text/plain": [
       "array([1., 1., 1., 1., 1., 1., 1., 1., 1., 1., 1., 1., 1., 1., 1., 1., 1.,\n",
       "       1., 1., 1., 1., 1., 1., 1., 1., 1., 1., 1., 1., 1., 1., 1., 1., 1.,\n",
       "       1., 1., 1., 1., 1., 1., 1., 1., 1., 1., 1., 1., 1., 1., 1., 1., 2.,\n",
       "       2., 2., 2., 2., 2., 2., 2., 2., 2., 2., 2., 2., 2., 2., 2., 2., 2.,\n",
       "       2., 2., 2., 2., 2., 2., 2., 2., 2., 2., 2., 2., 2., 2., 2., 2., 2.,\n",
       "       2., 2., 2., 2., 2., 2., 2., 2., 2., 2., 2., 2., 2., 2., 2., 3., 3.,\n",
       "       3., 3., 3., 3., 3., 3., 3., 3., 3., 3., 3., 3., 3., 3., 3., 3., 3.,\n",
       "       3., 3., 3., 3., 3., 3., 3., 3., 3., 3., 3., 3., 3., 3., 3., 3., 3.,\n",
       "       3., 3., 3., 3., 3., 3., 3., 3., 3., 3., 3., 3., 3., 3.])"
      ]
     },
     "execution_count": 165,
     "metadata": {},
     "output_type": "execute_result"
    }
   ],
   "source": [
    "Y_standard = Y\n",
    "Y_standard"
   ]
  },
  {
   "cell_type": "code",
   "execution_count": 166,
   "metadata": {},
   "outputs": [
    {
     "data": {
      "text/plain": [
       "numpy.ndarray"
      ]
     },
     "execution_count": 166,
     "metadata": {},
     "output_type": "execute_result"
    }
   ],
   "source": [
    "type(Y_standard)"
   ]
  },
  {
   "cell_type": "code",
   "execution_count": 167,
   "metadata": {},
   "outputs": [
    {
     "name": "stdout",
     "output_type": "stream",
     "text": [
      "covariance matrix =\n",
      " [[ 0.68569351 -0.042434    1.27431544  0.51627069]\n",
      " [-0.042434    0.18997942 -0.32965638 -0.12163937]\n",
      " [ 1.27431544 -0.32965638  3.11627785  1.2956094 ]\n",
      " [ 0.51627069 -0.12163937  1.2956094   0.58100626]]\n"
     ]
    }
   ],
   "source": [
    "cov = np.cov(X.T)   # .T b/c numpy wants varibles along rows rather than down columns?\n",
    "print(\"covariance matrix =\\n\",cov)"
   ]
  },
  {
   "cell_type": "code",
   "execution_count": 168,
   "metadata": {
    "collapsed": true
   },
   "outputs": [],
   "source": [
    "from numpy import linalg as LA\n",
    "lambdas, vs = LA.eig(cov)"
   ]
  },
  {
   "cell_type": "code",
   "execution_count": 169,
   "metadata": {},
   "outputs": [
    {
     "data": {
      "text/plain": [
       "array([4.22824171, 0.24267075, 0.0782095 , 0.02383509])"
      ]
     },
     "execution_count": 169,
     "metadata": {},
     "output_type": "execute_result"
    }
   ],
   "source": [
    "lambdas"
   ]
  },
  {
   "cell_type": "code",
   "execution_count": 170,
   "metadata": {},
   "outputs": [
    {
     "data": {
      "text/plain": [
       "array([[ 0.36138659, -0.65658877, -0.58202985,  0.31548719],\n",
       "       [-0.08452251, -0.73016143,  0.59791083, -0.3197231 ],\n",
       "       [ 0.85667061,  0.17337266,  0.07623608, -0.47983899],\n",
       "       [ 0.3582892 ,  0.07548102,  0.54583143,  0.75365743]])"
      ]
     },
     "execution_count": 170,
     "metadata": {},
     "output_type": "execute_result"
    }
   ],
   "source": [
    "vs"
   ]
  },
  {
   "cell_type": "code",
   "execution_count": 171,
   "metadata": {},
   "outputs": [
    {
     "data": {
      "text/plain": [
       "array([4.22824171, 0.24267075, 0.0782095 , 0.02383509])"
      ]
     },
     "execution_count": 171,
     "metadata": {},
     "output_type": "execute_result"
    }
   ],
   "source": [
    "lambdas"
   ]
  },
  {
   "cell_type": "code",
   "execution_count": 172,
   "metadata": {
    "collapsed": true
   },
   "outputs": [],
   "source": [
    "#sort the eigenvalues in descending order\n",
    "sorted_index = np.argsort(lambdas)[::-1]"
   ]
  },
  {
   "cell_type": "code",
   "execution_count": 173,
   "metadata": {},
   "outputs": [
    {
     "data": {
      "text/plain": [
       "array([0, 1, 2, 3], dtype=int64)"
      ]
     },
     "execution_count": 173,
     "metadata": {},
     "output_type": "execute_result"
    }
   ],
   "source": [
    "sorted_index"
   ]
  },
  {
   "cell_type": "code",
   "execution_count": 174,
   "metadata": {
    "collapsed": true
   },
   "outputs": [],
   "source": [
    "sorted_eigenvalue = lambdas[sorted_index] "
   ]
  },
  {
   "cell_type": "code",
   "execution_count": 175,
   "metadata": {},
   "outputs": [
    {
     "data": {
      "text/plain": [
       "array([4.22824171, 0.24267075, 0.0782095 , 0.02383509])"
      ]
     },
     "execution_count": 175,
     "metadata": {},
     "output_type": "execute_result"
    }
   ],
   "source": [
    "sorted_eigenvalue"
   ]
  },
  {
   "cell_type": "code",
   "execution_count": 176,
   "metadata": {
    "collapsed": true
   },
   "outputs": [],
   "source": [
    "sorted_eigenvectors = vs[:,sorted_index]"
   ]
  },
  {
   "cell_type": "code",
   "execution_count": 177,
   "metadata": {},
   "outputs": [
    {
     "data": {
      "text/plain": [
       "array([[ 0.36138659, -0.65658877, -0.58202985,  0.31548719],\n",
       "       [-0.08452251, -0.73016143,  0.59791083, -0.3197231 ],\n",
       "       [ 0.85667061,  0.17337266,  0.07623608, -0.47983899],\n",
       "       [ 0.3582892 ,  0.07548102,  0.54583143,  0.75365743]])"
      ]
     },
     "execution_count": 177,
     "metadata": {},
     "output_type": "execute_result"
    }
   ],
   "source": [
    "sorted_eigenvectors"
   ]
  },
  {
   "cell_type": "code",
   "execution_count": 178,
   "metadata": {
    "collapsed": true
   },
   "outputs": [],
   "source": [
    "# select the first n eigenvectors, n is desired dimension\n",
    "# of our final reduced data.\n",
    " \n",
    "n_components = 2 #you can select any number of components.\n",
    "eigenvector_subset = sorted_eigenvectors[:,0:n_components]"
   ]
  },
  {
   "cell_type": "code",
   "execution_count": 179,
   "metadata": {},
   "outputs": [
    {
     "data": {
      "text/plain": [
       "array([[ 0.36138659, -0.65658877],\n",
       "       [-0.08452251, -0.73016143],\n",
       "       [ 0.85667061,  0.17337266],\n",
       "       [ 0.3582892 ,  0.07548102]])"
      ]
     },
     "execution_count": 179,
     "metadata": {},
     "output_type": "execute_result"
    }
   ],
   "source": [
    "eigenvector_subset"
   ]
  },
  {
   "cell_type": "code",
   "execution_count": 180,
   "metadata": {
    "collapsed": true
   },
   "outputs": [],
   "source": [
    "#Transform the data \n",
    "X_reduced = np.dot(eigenvector_subset.transpose(),X.transpose()).transpose()"
   ]
  },
  {
   "cell_type": "code",
   "execution_count": 181,
   "metadata": {},
   "outputs": [
    {
     "name": "stdout",
     "output_type": "stream",
     "text": [
      "Information/Variance in PC1 94.57223216899484\n"
     ]
    }
   ],
   "source": [
    "print(\"Information/Variance in PC1\",(sorted_eigenvalue[0]/(sorted_eigenvalue[0]+sorted_eigenvalue[1]))*100)"
   ]
  },
  {
   "cell_type": "code",
   "execution_count": 182,
   "metadata": {},
   "outputs": [
    {
     "data": {
      "text/plain": [
       "array([[ 2.81823951, -5.64634982],\n",
       "       [ 2.78822345, -5.14995135],\n",
       "       [ 2.61337456, -5.18200315],\n",
       "       [ 2.75702228, -5.0086536 ],\n",
       "       [ 2.7736486 , -5.65370709],\n",
       "       [ 3.2215055 , -6.06828303],\n",
       "       [ 2.68182738, -5.23749119],\n",
       "       [ 2.87622016, -5.49033754],\n",
       "       [ 2.6159824 , -4.74864082],\n",
       "       [ 2.82960933, -5.21317833],\n",
       "       [ 2.99541804, -5.97202148],\n",
       "       [ 2.8896099 , -5.34168252],\n",
       "       [ 2.71625587, -5.09184058],\n",
       "       [ 2.27856139, -4.81555799],\n",
       "       [ 2.85761474, -6.50571721],\n",
       "       [ 3.1163261 , -6.66501491],\n",
       "       [ 2.87883726, -6.13763209],\n",
       "       [ 2.85406843, -5.63880172],\n",
       "       [ 3.30254481, -6.19979162],\n",
       "       [ 2.91437873, -5.84051289],\n",
       "       [ 3.19210892, -5.71829851],\n",
       "       [ 2.9586599 , -5.75994864],\n",
       "       [ 2.28642572, -5.46042065],\n",
       "       [ 3.19963195, -5.42566143],\n",
       "       [ 3.14661108, -5.28967072],\n",
       "       [ 2.99569623, -5.1809357 ],\n",
       "       [ 3.03354506, -5.45790407],\n",
       "       [ 2.94004523, -5.69467143],\n",
       "       [ 2.86283042, -5.63899256],\n",
       "       [ 2.87037575, -5.12999135],\n",
       "       [ 2.91496666, -5.12263409],\n",
       "       [ 3.09243264, -5.73787684],\n",
       "       [ 2.8535028 , -6.1403164 ],\n",
       "       [ 2.90362838, -6.42009834],\n",
       "       [ 2.86543825, -5.20563023],\n",
       "       [ 2.63612348, -5.39631705],\n",
       "       [ 2.87712708, -5.9263226 ],\n",
       "       [ 2.70168102, -5.59559631],\n",
       "       [ 2.52186309, -4.83899423],\n",
       "       [ 2.91235882, -5.55599641],\n",
       "       [ 2.73226271, -5.59048011],\n",
       "       [ 2.65299643, -4.385992  ],\n",
       "       [ 2.50495859, -4.98502652],\n",
       "       [ 3.09675065, -5.51582401],\n",
       "       [ 3.29287589, -5.76361572],\n",
       "       [ 2.78791371, -5.07674437],\n",
       "       [ 2.96421687, -5.83072372],\n",
       "       [ 2.66290296, -5.09900701],\n",
       "       [ 2.95927938, -5.9063626 ],\n",
       "       [ 2.79900535, -5.43465866],\n",
       "       [ 6.78719082, -6.01211305],\n",
       "       [ 6.43485366, -5.64528622],\n",
       "       [ 6.96666745, -5.83121539],\n",
       "       [ 5.68568285, -4.49899357],\n",
       "       [ 6.59046839, -5.40154325],\n",
       "       [ 6.14403422, -4.90870571],\n",
       "       [ 6.5974258 , -5.61042085],\n",
       "       [ 4.75324246, -4.32206162],\n",
       "       [ 6.54649696, -5.55531448],\n",
       "       [ 5.49361973, -4.60387067],\n",
       "       [ 4.99452425, -4.06098139],\n",
       "       [ 6.01406369, -5.22297134],\n",
       "       [ 5.76734164, -4.77691611],\n",
       "       [ 6.48729964, -5.20213472],\n",
       "       [ 5.32843976, -5.07209837],\n",
       "       [ 6.43022591, -5.79413207],\n",
       "       [ 6.16264889, -4.97398291],\n",
       "       [ 5.73847013, -4.99334181],\n",
       "       [ 6.44709886, -4.78380703],\n",
       "       [ 5.54759211, -4.7431182 ],\n",
       "       [ 6.61864831, -5.24233572],\n",
       "       [ 5.86025355, -5.25802755],\n",
       "       [ 6.80054901, -4.99916527],\n",
       "       [ 6.42409406, -5.14421478],\n",
       "       [ 6.21721846, -5.47600852],\n",
       "       [ 6.40253951, -5.65545705],\n",
       "       [ 6.83438957, -5.57139345],\n",
       "       [ 7.06016729, -5.59444802],\n",
       "       [ 6.31565578, -5.16360228],\n",
       "       [ 5.19678135, -4.95869039],\n",
       "       [ 5.43423864, -4.62178045],\n",
       "       [ 5.31274266, -4.64666581],\n",
       "       [ 5.63879384, -5.01292014],\n",
       "       [ 6.88239157, -4.90599829],\n",
       "       [ 6.09037158, -4.84266516],\n",
       "       [ 6.30922345, -5.52113489],\n",
       "       [ 6.72305602, -5.73457217],\n",
       "       [ 6.31746037, -4.95491552],\n",
       "       [ 5.74832281, -5.05842818],\n",
       "       [ 5.66877835, -4.64502585],\n",
       "       [ 5.96716542, -4.65624103],\n",
       "       [ 6.39318033, -5.29248813],\n",
       "       [ 5.73291316, -4.92256673],\n",
       "       [ 4.79783337, -4.31470435],\n",
       "       [ 5.85934663, -4.82204248],\n",
       "       [ 5.83429961, -5.11429789],\n",
       "       [ 5.87858078, -5.03373365],\n",
       "       [ 6.14494114, -5.34469077],\n",
       "       [ 4.59589527, -4.57085921],\n",
       "       [ 5.80136597, -4.97805477],\n",
       "       [ 8.03355786, -5.31710347],\n",
       "       [ 6.91760101, -4.75203623],\n",
       "       [ 8.11904115, -5.67085573],\n",
       "       [ 7.47389619, -5.14722467],\n",
       "       [ 7.85237105, -5.28669163],\n",
       "       [ 8.89940387, -5.87778925],\n",
       "       [ 6.02359738, -4.13419385],\n",
       "       [ 8.4349522 , -5.68245258],\n",
       "       [ 7.82359395, -5.08312107],\n",
       "       [ 8.4191161 , -6.10974453],\n",
       "       [ 7.16413929, -5.56918098],\n",
       "       [ 7.30576709, -5.11131496],\n",
       "       [ 7.66795693, -5.54322816],\n",
       "       [ 6.84852871, -4.55013423],\n",
       "       [ 7.08829336, -4.78731186],\n",
       "       [ 7.40682151, -5.44620327],\n",
       "       [ 7.45205419, -5.36889584],\n",
       "       [ 8.9894205 , -6.50269191],\n",
       "       [ 9.29801055, -5.58427555],\n",
       "       [ 6.80315685, -4.56580294],\n",
       "       [ 7.93018305, -5.70514859],\n",
       "       [ 6.70136624, -4.72086105],\n",
       "       [ 9.00228517, -5.78762668],\n",
       "       [ 6.89113126, -5.12255325],\n",
       "       [ 7.77779564, -5.66194318],\n",
       "       [ 8.11645561, -5.88785393],\n",
       "       [ 6.76087329, -5.14724778],\n",
       "       [ 6.79349719, -5.21028393],\n",
       "       [ 7.62597386, -5.1172231 ],\n",
       "       [ 7.89036815, -5.79159238],\n",
       "       [ 8.34403791, -5.70222174],\n",
       "       [ 8.73303879, -6.70111766],\n",
       "       [ 7.66180278, -5.109675  ],\n",
       "       [ 6.94652637, -5.18353917],\n",
       "       [ 7.28365994, -4.8270509 ],\n",
       "       [ 8.57886506, -6.01503825],\n",
       "       [ 7.64660845, -5.46701678],\n",
       "       [ 7.40746328, -5.3762531 ],\n",
       "       [ 6.67169147, -5.16196231],\n",
       "       [ 7.60997628, -5.69924045],\n",
       "       [ 7.81651984, -5.51060386],\n",
       "       [ 7.42463293, -5.73615604],\n",
       "       [ 6.91760101, -4.75203623],\n",
       "       [ 8.06537851, -5.60481518],\n",
       "       [ 7.92111132, -5.63175077],\n",
       "       [ 7.44647493, -5.51448488],\n",
       "       [ 7.02953175, -4.95163559],\n",
       "       [ 7.26671085, -5.40581143],\n",
       "       [ 7.40330675, -5.44358054],\n",
       "       [ 6.89255399, -5.04429164]])"
      ]
     },
     "execution_count": 182,
     "metadata": {},
     "output_type": "execute_result"
    }
   ],
   "source": [
    "X_reduced"
   ]
  },
  {
   "cell_type": "code",
   "execution_count": 184,
   "metadata": {},
   "outputs": [
    {
     "data": {
      "image/png": "[encoded data removed]",
      "text/plain": [
       "<Figure size 432x288 with 1 Axes>"
      ]
     },
     "metadata": {},
     "output_type": "display_data"
    }
   ],
   "source": [
    "import matplotlib.pyplot as plt\n",
    "plt.xlabel('Principal Component - 1',fontsize=20)\n",
    "plt.ylabel('Principal Component - 2',fontsize=20)\n",
    "plt.scatter(X_reduced[:,0:1],X_reduced[:,-1],c=Y)\n",
    "plt.show()"
   ]
  },
  {
   "cell_type": "code",
   "execution_count": null,
   "metadata": {
    "collapsed": true
   },
   "outputs": [],
   "source": []
  }
 ],
 "metadata": {
  "kernelspec": {
   "display_name": "Python 3",
   "language": "python",
   "name": "python3"
  },
  "language_info": {
   "codemirror_mode": {
    "name": "ipython",
    "version": 3
   },
   "file_extension": ".py",
   "mimetype": "text/x-python",
   "name": "python",
   "nbconvert_exporter": "python",
   "pygments_lexer": "ipython3",
   "version": "3.6.3"
  }
 },
 "nbformat": 4,
 "nbformat_minor": 2
}
